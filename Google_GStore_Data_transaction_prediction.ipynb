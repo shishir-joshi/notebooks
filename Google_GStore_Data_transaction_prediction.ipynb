{
  "nbformat": 4,
  "nbformat_minor": 0,
  "metadata": {
    "colab": {
      "name": "Google GStore Data transaction prediction.ipynb",
      "provenance": [],
      "collapsed_sections": [
        "u-8Klk-I84XM"
      ],
      "toc_visible": true,
      "machine_shape": "hm",
      "include_colab_link": true
    },
    "kernelspec": {
      "name": "python3",
      "display_name": "Python 3"
    },
    "accelerator": "GPU"
  },
  "cells": [
    {
      "cell_type": "markdown",
      "metadata": {
        "id": "view-in-github",
        "colab_type": "text"
      },
      "source": [
        "<a href=\"https://colab.research.google.com/github/shishir-joshi/notebooks/blob/master/Google_GStore_Data_transaction_prediction.ipynb\" target=\"_parent\"><img src=\"https://colab.research.google.com/assets/colab-badge.svg\" alt=\"Open In Colab\"/></a>"
      ]
    },
    {
      "cell_type": "code",
      "metadata": {
        "colab_type": "code",
        "id": "KuhAiPfZ3rJW",
        "colab": {}
      },
      "source": [
        "from __future__ import absolute_import, division, print_function, unicode_literals\n",
        "\n",
        "import numpy as np\n",
        "import pandas as pd\n",
        "from IPython.display import clear_output\n",
        "from matplotlib import pyplot as plt\n",
        "from sklearn.model_selection import train_test_split"
      ],
      "execution_count": 0,
      "outputs": []
    },
    {
      "cell_type": "code",
      "metadata": {
        "colab_type": "code",
        "id": "NFtnFm1T0kMf",
        "outputId": "c9c25806-5181-4098-b915-11f342bd625c",
        "colab": {
          "base_uri": "https://localhost:8080/",
          "height": 34
        }
      },
      "source": [
        "try:\n",
        "  %tensorflow_version 2.x\n",
        "except Exception:\n",
        "  pass\n",
        "import tensorflow as tf\n",
        "tf.random.set_seed(123)"
      ],
      "execution_count": 0,
      "outputs": [
        {
          "output_type": "stream",
          "text": [
            "TensorFlow 2.x selected.\n"
          ],
          "name": "stdout"
        }
      ]
    },
    {
      "cell_type": "code",
      "metadata": {
        "id": "HJi8W4aCr43a",
        "colab_type": "code",
        "outputId": "90ea29d0-4c39-49f5-d33f-f1b02b783f13",
        "colab": {
          "base_uri": "https://localhost:8080/",
          "height": 161
        }
      },
      "source": [
        "# Load dataset.\n",
        "data = pd.read_csv('https://storage.googleapis.com/sample_user_behavior_data/sample_user_data.csv')\n",
        "\n",
        "dftrain, dftest = train_test_split(data,test_size=0.3)\n",
        "dftrain, dfeval = train_test_split(dftrain,test_size=0.2)\n",
        "\n",
        "_=dftrain.pop('fullVisitorId')\n",
        "_=dftest.pop('fullVisitorId')\n",
        "_=dfeval.pop('fullVisitorId')\n",
        "\n",
        "y_train = dftrain.pop('totals_totalTransactionRevenue').to_frame()\n",
        "y_test = dftest.pop('totals_totalTransactionRevenue').to_frame()\n",
        "y_eval = dfeval.pop('totals_totalTransactionRevenue').to_frame()\n",
        "\n",
        "y_train.fillna(0,inplace=True)\n",
        "y_test.fillna(0,inplace=True)\n",
        "y_eval.fillna(0,inplace=True)\n",
        "\n",
        "dftrain.fillna(0,inplace=True)\n",
        "dftest.fillna(0,inplace=True)\n",
        "dfeval.fillna(0,inplace=True)\n"
      ],
      "execution_count": 0,
      "outputs": [
        {
          "output_type": "stream",
          "text": [
            "/usr/local/lib/python3.6/dist-packages/IPython/core/interactiveshell.py:2718: DtypeWarning: Columns (0) have mixed types. Specify dtype option on import or set low_memory=False.\n",
            "  interactivity=interactivity, compiler=compiler, result=result)\n",
            "/usr/local/lib/python3.6/dist-packages/pandas/core/frame.py:4259: SettingWithCopyWarning: \n",
            "A value is trying to be set on a copy of a slice from a DataFrame\n",
            "\n",
            "See the caveats in the documentation: http://pandas.pydata.org/pandas-docs/stable/user_guide/indexing.html#returning-a-view-versus-a-copy\n",
            "  **kwargs\n"
          ],
          "name": "stderr"
        }
      ]
    },
    {
      "cell_type": "markdown",
      "metadata": {
        "id": "tElEFocc-aOo",
        "colab_type": "text"
      },
      "source": [
        "*NOTE:*\n",
        "\n",
        "*As the task is to predict whether a visitor will make a* *transaction or not, I have converted the target variable from* *numeric to binary(o = no revenue, 1 = some revenue)*"
      ]
    },
    {
      "cell_type": "code",
      "metadata": {
        "id": "7XHwor1C-Y_j",
        "colab_type": "code",
        "colab": {}
      },
      "source": [
        "\n",
        "y_train.loc[y_train.totals_totalTransactionRevenue > 0, 'totals_totalTransactionRevenue'] = 1\n",
        "y_test.loc[y_test.totals_totalTransactionRevenue > 0, 'totals_totalTransactionRevenue'] = 1\n",
        "y_eval.loc[y_eval.totals_totalTransactionRevenue > 0, 'totals_totalTransactionRevenue'] = 1"
      ],
      "execution_count": 0,
      "outputs": []
    },
    {
      "cell_type": "code",
      "metadata": {
        "id": "xxK3jliyFDKb",
        "colab_type": "code",
        "colab": {}
      },
      "source": [
        ""
      ],
      "execution_count": 0,
      "outputs": []
    },
    {
      "cell_type": "markdown",
      "metadata": {
        "colab_type": "text",
        "id": "AoPiWsJALr-k"
      },
      "source": [
        "## Exploring the data"
      ]
    },
    {
      "cell_type": "markdown",
      "metadata": {
        "id": "lUzp9neCkn3y",
        "colab_type": "text"
      },
      "source": [
        "Plotting visitors against the sum of transaction revenue per customer"
      ]
    },
    {
      "cell_type": "code",
      "metadata": {
        "id": "tKqQTQkwBICW",
        "colab_type": "code",
        "outputId": "794f3dac-d321-4955-cc91-56c7548de72f",
        "colab": {
          "base_uri": "https://localhost:8080/",
          "height": 393
        }
      },
      "source": [
        "data['totals_totalTransactionRevenue'] = data['totals_totalTransactionRevenue'].astype('float')\n",
        "to_plot = data.groupby('fullVisitorId')['totals_totalTransactionRevenue'].sum().reset_index()\n",
        "fig=plt.figure(figsize=(10,10), dpi= 100, facecolor='w', edgecolor='k')\n",
        "colors = np.random.rand(to_plot.shape[0])\n",
        "plt.figure(figsize=(9,5))\n",
        "plt.scatter(range(to_plot.shape[0]), np.log(np.sort(to_plot['totals_totalTransactionRevenue'].values)), c=colors)\n",
        "plt.xlabel('index', fontsize=15)\n",
        "plt.ylabel('Log(TransactionRevenue)', fontsize=15)\n",
        "plt.show()"
      ],
      "execution_count": 0,
      "outputs": [
        {
          "output_type": "stream",
          "text": [
            "/usr/local/lib/python3.6/dist-packages/ipykernel_launcher.py:6: RuntimeWarning: divide by zero encountered in log\n",
            "  \n"
          ],
          "name": "stderr"
        },
        {
          "output_type": "display_data",
          "data": {
            "text/plain": [
              "<Figure size 1000x1000 with 0 Axes>"
            ]
          },
          "metadata": {
            "tags": []
          }
        },
        {
          "output_type": "display_data",
          "data": {
            "image/png": "[encoded data removed]",
            "text/plain": [
              "<Figure size 648x360 with 1 Axes>"
            ]
          },
          "metadata": {
            "tags": []
          }
        }
      ]
    },
    {
      "cell_type": "markdown",
      "metadata": {
        "id": "-2ft79PCXu9R",
        "colab_type": "text"
      },
      "source": [
        "Plotting total time on site against Revenue"
      ]
    },
    {
      "cell_type": "code",
      "metadata": {
        "colab_type": "code",
        "id": "CaVDmZtuDfux",
        "outputId": "e27fdf26-d5a3-4a30-e7b5-5479a254d265",
        "colab": {
          "base_uri": "https://localhost:8080/",
          "height": 367
        }
      },
      "source": [
        "fig=plt.figure(figsize=(10,10), dpi= 100, facecolor='w', edgecolor='k')\n",
        "to_plot = data.groupby('totals_timeOnSite')['totals_totalTransactionRevenue'].sum().reset_index()\n",
        "colors = np.random.rand(to_plot.shape[0])\n",
        "plt.figure(figsize=(9,5))\n",
        "plt.scatter(range(to_plot.shape[0]), (np.sort(to_plot['totals_totalTransactionRevenue'].values)), c=colors)\n",
        "plt.xlabel('index', fontsize=15)\n",
        "plt.ylabel('Time on Site', fontsize=15)\n",
        "# dftrain.totals_timeOnSite.hist(figsize=(5,4),bins=4)\n",
        "plt.show()"
      ],
      "execution_count": 0,
      "outputs": [
        {
          "output_type": "display_data",
          "data": {
            "text/plain": [
              "<Figure size 1000x1000 with 0 Axes>"
            ]
          },
          "metadata": {
            "tags": []
          }
        },
        {
          "output_type": "display_data",
          "data": {
            "image/png": "[encoded data removed]",
            "text/plain": [
              "<Figure size 648x360 with 1 Axes>"
            ]
          },
          "metadata": {
            "tags": []
          }
        }
      ]
    },
    {
      "cell_type": "code",
      "metadata": {
        "id": "K13l3tw_YWXS",
        "colab_type": "code",
        "outputId": "6c1a88b8-3d2e-497a-e1d4-7b90c238104d",
        "colab": {
          "base_uri": "https://localhost:8080/",
          "height": 293
        }
      },
      "source": [
        "plt.scatter(data['totals_timeOnSite'],data['totals_totalTransactionRevenue'])"
      ],
      "execution_count": 0,
      "outputs": [
        {
          "output_type": "execute_result",
          "data": {
            "text/plain": [
              "<matplotlib.collections.PathCollection at 0x7f2183350e48>"
            ]
          },
          "metadata": {
            "tags": []
          },
          "execution_count": 7
        },
        {
          "output_type": "display_data",
          "data": {
            "image/png": "[encoded data removed]",
            "text/plain": [
              "<Figure size 432x288 with 1 Axes>"
            ]
          },
          "metadata": {
            "tags": []
          }
        }
      ]
    },
    {
      "cell_type": "markdown",
      "metadata": {
        "id": "7h4IWL8PavwX",
        "colab_type": "text"
      },
      "source": [
        "Which channels bring the most visitors:"
      ]
    },
    {
      "cell_type": "code",
      "metadata": {
        "colab_type": "code",
        "id": "-WazAq30MO5J",
        "outputId": "1bd620f1-cff5-438c-f5e8-027f219b4b43",
        "colab": {
          "base_uri": "https://localhost:8080/",
          "height": 264
        }
      },
      "source": [
        "dftrain.channelGrouping.value_counts().plot(kind='barh')\n",
        "plt.show()"
      ],
      "execution_count": 0,
      "outputs": [
        {
          "output_type": "display_data",
          "data": {
            "image/png": "[encoded data removed]",
            "text/plain": [
              "<Figure size 432x288 with 1 Axes>"
            ]
          },
          "metadata": {
            "tags": []
          }
        }
      ]
    },
    {
      "cell_type": "markdown",
      "metadata": {
        "id": "3h7n2aJ3a5EH",
        "colab_type": "text"
      },
      "source": [
        "Plotting the revenue from specific data sources, \n",
        "direct and google seem to dominate the total revenue streams"
      ]
    },
    {
      "cell_type": "code",
      "metadata": {
        "colab_type": "code",
        "id": "Eh3KW5oYkaNS",
        "outputId": "7d882b6e-78ba-4382-9456-d274769764a1",
        "colab": {
          "base_uri": "https://localhost:8080/",
          "height": 620
        }
      },
      "source": [
        "ind = np.arange(len(data.groupby('trafficSource_source')))\n",
        "width = 5\n",
        "fig=plt.figure(figsize=(8,8), dpi= 80, facecolor='w', edgecolor='k')\n",
        "fig.suptitle('Revenue from traffic sources', fontsize=20)\n",
        "plt.ylabel('Traffic Source', fontsize=18)\n",
        "plt.xlabel('Revenue', fontsize=16)\n",
        "to_plot = data.groupby('trafficSource_source')['totals_totalTransactionRevenue'].sum().reset_index()\n",
        "to_plot = to_plot.sort_values(by='totals_totalTransactionRevenue')[::-1][:20]\n",
        "plt.yticks(ind[:20], to_plot['trafficSource_source'], rotation = -360)\n",
        "\n",
        "bar = plt.barh(ind[:20], to_plot['totals_totalTransactionRevenue'])"
      ],
      "execution_count": 0,
      "outputs": [
        {
          "output_type": "display_data",
          "data": {
            "image/png": "[encoded data removed]",
            "text/plain": [
              "<Figure size 640x640 with 1 Axes>"
            ]
          },
          "metadata": {
            "tags": []
          }
        }
      ]
    },
    {
      "cell_type": "code",
      "metadata": {
        "id": "IRZ5WgCC0Jf8",
        "colab_type": "code",
        "colab": {}
      },
      "source": [
        ""
      ],
      "execution_count": 0,
      "outputs": []
    },
    {
      "cell_type": "markdown",
      "metadata": {
        "id": "VdrpM01elqfk",
        "colab_type": "text"
      },
      "source": [
        "###Dataset Summary Statistics"
      ]
    },
    {
      "cell_type": "code",
      "metadata": {
        "colab_type": "code",
        "id": "15PLelXBlxEW",
        "outputId": "31692473-c622-4940-a909-29acc331bd3a",
        "colab": {
          "base_uri": "https://localhost:8080/",
          "height": 267
        }
      },
      "source": [
        "dftrain.head()"
      ],
      "execution_count": 0,
      "outputs": [
        {
          "output_type": "execute_result",
          "data": {
            "text/html": [
              "<div>\n",
              "<style scoped>\n",
              "    .dataframe tbody tr th:only-of-type {\n",
              "        vertical-align: middle;\n",
              "    }\n",
              "\n",
              "    .dataframe tbody tr th {\n",
              "        vertical-align: top;\n",
              "    }\n",
              "\n",
              "    .dataframe thead th {\n",
              "        text-align: right;\n",
              "    }\n",
              "</style>\n",
              "<table border=\"1\" class=\"dataframe\">\n",
              "  <thead>\n",
              "    <tr style=\"text-align: right;\">\n",
              "      <th></th>\n",
              "      <th>visitNumber</th>\n",
              "      <th>date</th>\n",
              "      <th>visitStartTime</th>\n",
              "      <th>totals_bounces</th>\n",
              "      <th>totals_pageviews</th>\n",
              "      <th>totals_timeOnSite</th>\n",
              "      <th>totals_transactions</th>\n",
              "      <th>trafficSource_source</th>\n",
              "      <th>trafficSource_medium</th>\n",
              "      <th>trafficSource_campaign</th>\n",
              "      <th>device_deviceCategory</th>\n",
              "      <th>device_operatingSystem</th>\n",
              "      <th>device_mobileDeviceModel</th>\n",
              "      <th>geoNetwork_city</th>\n",
              "      <th>channelGrouping</th>\n",
              "    </tr>\n",
              "  </thead>\n",
              "  <tbody>\n",
              "    <tr>\n",
              "      <th>156944</th>\n",
              "      <td>1</td>\n",
              "      <td>20170603</td>\n",
              "      <td>1496557210</td>\n",
              "      <td>0.0</td>\n",
              "      <td>3.0</td>\n",
              "      <td>41.0</td>\n",
              "      <td>0.0</td>\n",
              "      <td>(direct)</td>\n",
              "      <td>(none)</td>\n",
              "      <td>(not set)</td>\n",
              "      <td>tablet</td>\n",
              "      <td>Android</td>\n",
              "      <td>not available in demo dataset</td>\n",
              "      <td>not available in demo dataset</td>\n",
              "      <td>Direct</td>\n",
              "    </tr>\n",
              "    <tr>\n",
              "      <th>191023</th>\n",
              "      <td>1</td>\n",
              "      <td>20170630</td>\n",
              "      <td>1498806257</td>\n",
              "      <td>0.0</td>\n",
              "      <td>10.0</td>\n",
              "      <td>127.0</td>\n",
              "      <td>0.0</td>\n",
              "      <td>youtube.com</td>\n",
              "      <td>referral</td>\n",
              "      <td>(not set)</td>\n",
              "      <td>mobile</td>\n",
              "      <td>Android</td>\n",
              "      <td>not available in demo dataset</td>\n",
              "      <td>Chennai</td>\n",
              "      <td>Social</td>\n",
              "    </tr>\n",
              "    <tr>\n",
              "      <th>304487</th>\n",
              "      <td>1</td>\n",
              "      <td>20170129</td>\n",
              "      <td>1485702353</td>\n",
              "      <td>1.0</td>\n",
              "      <td>1.0</td>\n",
              "      <td>0.0</td>\n",
              "      <td>0.0</td>\n",
              "      <td>quora.com</td>\n",
              "      <td>referral</td>\n",
              "      <td>(not set)</td>\n",
              "      <td>desktop</td>\n",
              "      <td>Windows</td>\n",
              "      <td>not available in demo dataset</td>\n",
              "      <td>not available in demo dataset</td>\n",
              "      <td>Social</td>\n",
              "    </tr>\n",
              "    <tr>\n",
              "      <th>350015</th>\n",
              "      <td>1</td>\n",
              "      <td>20170708</td>\n",
              "      <td>1499511926</td>\n",
              "      <td>1.0</td>\n",
              "      <td>1.0</td>\n",
              "      <td>0.0</td>\n",
              "      <td>0.0</td>\n",
              "      <td>google</td>\n",
              "      <td>organic</td>\n",
              "      <td>(not set)</td>\n",
              "      <td>mobile</td>\n",
              "      <td>Android</td>\n",
              "      <td>not available in demo dataset</td>\n",
              "      <td>(not set)</td>\n",
              "      <td>Organic Search</td>\n",
              "    </tr>\n",
              "    <tr>\n",
              "      <th>174144</th>\n",
              "      <td>1</td>\n",
              "      <td>20170226</td>\n",
              "      <td>1488141142</td>\n",
              "      <td>0.0</td>\n",
              "      <td>4.0</td>\n",
              "      <td>52.0</td>\n",
              "      <td>0.0</td>\n",
              "      <td>google</td>\n",
              "      <td>organic</td>\n",
              "      <td>(not set)</td>\n",
              "      <td>mobile</td>\n",
              "      <td>iOS</td>\n",
              "      <td>not available in demo dataset</td>\n",
              "      <td>not available in demo dataset</td>\n",
              "      <td>Organic Search</td>\n",
              "    </tr>\n",
              "  </tbody>\n",
              "</table>\n",
              "</div>"
            ],
            "text/plain": [
              "        visitNumber      date  ...                geoNetwork_city  channelGrouping\n",
              "156944            1  20170603  ...  not available in demo dataset           Direct\n",
              "191023            1  20170630  ...                        Chennai           Social\n",
              "304487            1  20170129  ...  not available in demo dataset           Social\n",
              "350015            1  20170708  ...                      (not set)   Organic Search\n",
              "174144            1  20170226  ...  not available in demo dataset   Organic Search\n",
              "\n",
              "[5 rows x 15 columns]"
            ]
          },
          "metadata": {
            "tags": []
          },
          "execution_count": 10
        }
      ]
    },
    {
      "cell_type": "code",
      "metadata": {
        "colab_type": "code",
        "id": "j2hiM4ETmqP0",
        "outputId": "1e1a207f-b8c2-476f-bb29-d8d5a3315eb0",
        "colab": {
          "base_uri": "https://localhost:8080/",
          "height": 414
        }
      },
      "source": [
        "dftrain.describe(include='all')"
      ],
      "execution_count": 0,
      "outputs": [
        {
          "output_type": "execute_result",
          "data": {
            "text/html": [
              "<div>\n",
              "<style scoped>\n",
              "    .dataframe tbody tr th:only-of-type {\n",
              "        vertical-align: middle;\n",
              "    }\n",
              "\n",
              "    .dataframe tbody tr th {\n",
              "        vertical-align: top;\n",
              "    }\n",
              "\n",
              "    .dataframe thead th {\n",
              "        text-align: right;\n",
              "    }\n",
              "</style>\n",
              "<table border=\"1\" class=\"dataframe\">\n",
              "  <thead>\n",
              "    <tr style=\"text-align: right;\">\n",
              "      <th></th>\n",
              "      <th>visitNumber</th>\n",
              "      <th>date</th>\n",
              "      <th>visitStartTime</th>\n",
              "      <th>totals_bounces</th>\n",
              "      <th>totals_pageviews</th>\n",
              "      <th>totals_timeOnSite</th>\n",
              "      <th>totals_transactions</th>\n",
              "      <th>trafficSource_source</th>\n",
              "      <th>trafficSource_medium</th>\n",
              "      <th>trafficSource_campaign</th>\n",
              "      <th>device_deviceCategory</th>\n",
              "      <th>device_operatingSystem</th>\n",
              "      <th>device_mobileDeviceModel</th>\n",
              "      <th>geoNetwork_city</th>\n",
              "      <th>channelGrouping</th>\n",
              "    </tr>\n",
              "  </thead>\n",
              "  <tbody>\n",
              "    <tr>\n",
              "      <th>count</th>\n",
              "      <td>260233.000000</td>\n",
              "      <td>2.602330e+05</td>\n",
              "      <td>2.602330e+05</td>\n",
              "      <td>260233.000000</td>\n",
              "      <td>260233.000000</td>\n",
              "      <td>260233.000000</td>\n",
              "      <td>260233.000000</td>\n",
              "      <td>260233</td>\n",
              "      <td>260233</td>\n",
              "      <td>260233</td>\n",
              "      <td>260233</td>\n",
              "      <td>260233</td>\n",
              "      <td>260233</td>\n",
              "      <td>260233</td>\n",
              "      <td>260233</td>\n",
              "    </tr>\n",
              "    <tr>\n",
              "      <th>unique</th>\n",
              "      <td>NaN</td>\n",
              "      <td>NaN</td>\n",
              "      <td>NaN</td>\n",
              "      <td>NaN</td>\n",
              "      <td>NaN</td>\n",
              "      <td>NaN</td>\n",
              "      <td>NaN</td>\n",
              "      <td>184</td>\n",
              "      <td>7</td>\n",
              "      <td>7</td>\n",
              "      <td>3</td>\n",
              "      <td>16</td>\n",
              "      <td>1</td>\n",
              "      <td>435</td>\n",
              "      <td>8</td>\n",
              "    </tr>\n",
              "    <tr>\n",
              "      <th>top</th>\n",
              "      <td>NaN</td>\n",
              "      <td>NaN</td>\n",
              "      <td>NaN</td>\n",
              "      <td>NaN</td>\n",
              "      <td>NaN</td>\n",
              "      <td>NaN</td>\n",
              "      <td>NaN</td>\n",
              "      <td>(direct)</td>\n",
              "      <td>(none)</td>\n",
              "      <td>(not set)</td>\n",
              "      <td>desktop</td>\n",
              "      <td>Windows</td>\n",
              "      <td>not available in demo dataset</td>\n",
              "      <td>not available in demo dataset</td>\n",
              "      <td>Organic Search</td>\n",
              "    </tr>\n",
              "    <tr>\n",
              "      <th>freq</th>\n",
              "      <td>NaN</td>\n",
              "      <td>NaN</td>\n",
              "      <td>NaN</td>\n",
              "      <td>NaN</td>\n",
              "      <td>NaN</td>\n",
              "      <td>NaN</td>\n",
              "      <td>NaN</td>\n",
              "      <td>104926</td>\n",
              "      <td>104924</td>\n",
              "      <td>250031</td>\n",
              "      <td>175487</td>\n",
              "      <td>95968</td>\n",
              "      <td>260233</td>\n",
              "      <td>150305</td>\n",
              "      <td>130422</td>\n",
              "    </tr>\n",
              "    <tr>\n",
              "      <th>mean</th>\n",
              "      <td>2.345221</td>\n",
              "      <td>2.017042e+07</td>\n",
              "      <td>1.492489e+09</td>\n",
              "      <td>0.501405</td>\n",
              "      <td>3.763377</td>\n",
              "      <td>138.774314</td>\n",
              "      <td>0.014157</td>\n",
              "      <td>NaN</td>\n",
              "      <td>NaN</td>\n",
              "      <td>NaN</td>\n",
              "      <td>NaN</td>\n",
              "      <td>NaN</td>\n",
              "      <td>NaN</td>\n",
              "      <td>NaN</td>\n",
              "      <td>NaN</td>\n",
              "    </tr>\n",
              "    <tr>\n",
              "      <th>std</th>\n",
              "      <td>10.014187</td>\n",
              "      <td>2.008002e+02</td>\n",
              "      <td>5.283608e+06</td>\n",
              "      <td>0.499999</td>\n",
              "      <td>6.279368</td>\n",
              "      <td>371.015187</td>\n",
              "      <td>0.132951</td>\n",
              "      <td>NaN</td>\n",
              "      <td>NaN</td>\n",
              "      <td>NaN</td>\n",
              "      <td>NaN</td>\n",
              "      <td>NaN</td>\n",
              "      <td>NaN</td>\n",
              "      <td>NaN</td>\n",
              "      <td>NaN</td>\n",
              "    </tr>\n",
              "    <tr>\n",
              "      <th>min</th>\n",
              "      <td>1.000000</td>\n",
              "      <td>2.017010e+07</td>\n",
              "      <td>1.483258e+09</td>\n",
              "      <td>0.000000</td>\n",
              "      <td>0.000000</td>\n",
              "      <td>0.000000</td>\n",
              "      <td>0.000000</td>\n",
              "      <td>NaN</td>\n",
              "      <td>NaN</td>\n",
              "      <td>NaN</td>\n",
              "      <td>NaN</td>\n",
              "      <td>NaN</td>\n",
              "      <td>NaN</td>\n",
              "      <td>NaN</td>\n",
              "      <td>NaN</td>\n",
              "    </tr>\n",
              "    <tr>\n",
              "      <th>25%</th>\n",
              "      <td>1.000000</td>\n",
              "      <td>2.017022e+07</td>\n",
              "      <td>1.487893e+09</td>\n",
              "      <td>0.000000</td>\n",
              "      <td>1.000000</td>\n",
              "      <td>0.000000</td>\n",
              "      <td>0.000000</td>\n",
              "      <td>NaN</td>\n",
              "      <td>NaN</td>\n",
              "      <td>NaN</td>\n",
              "      <td>NaN</td>\n",
              "      <td>NaN</td>\n",
              "      <td>NaN</td>\n",
              "      <td>NaN</td>\n",
              "      <td>NaN</td>\n",
              "    </tr>\n",
              "    <tr>\n",
              "      <th>50%</th>\n",
              "      <td>1.000000</td>\n",
              "      <td>2.017042e+07</td>\n",
              "      <td>1.492441e+09</td>\n",
              "      <td>1.000000</td>\n",
              "      <td>1.000000</td>\n",
              "      <td>0.000000</td>\n",
              "      <td>0.000000</td>\n",
              "      <td>NaN</td>\n",
              "      <td>NaN</td>\n",
              "      <td>NaN</td>\n",
              "      <td>NaN</td>\n",
              "      <td>NaN</td>\n",
              "      <td>NaN</td>\n",
              "      <td>NaN</td>\n",
              "      <td>NaN</td>\n",
              "    </tr>\n",
              "    <tr>\n",
              "      <th>75%</th>\n",
              "      <td>1.000000</td>\n",
              "      <td>2.017061e+07</td>\n",
              "      <td>1.497097e+09</td>\n",
              "      <td>1.000000</td>\n",
              "      <td>4.000000</td>\n",
              "      <td>93.000000</td>\n",
              "      <td>0.000000</td>\n",
              "      <td>NaN</td>\n",
              "      <td>NaN</td>\n",
              "      <td>NaN</td>\n",
              "      <td>NaN</td>\n",
              "      <td>NaN</td>\n",
              "      <td>NaN</td>\n",
              "      <td>NaN</td>\n",
              "      <td>NaN</td>\n",
              "    </tr>\n",
              "    <tr>\n",
              "      <th>max</th>\n",
              "      <td>394.000000</td>\n",
              "      <td>2.017073e+07</td>\n",
              "      <td>1.501571e+09</td>\n",
              "      <td>1.000000</td>\n",
              "      <td>358.000000</td>\n",
              "      <td>11848.000000</td>\n",
              "      <td>21.000000</td>\n",
              "      <td>NaN</td>\n",
              "      <td>NaN</td>\n",
              "      <td>NaN</td>\n",
              "      <td>NaN</td>\n",
              "      <td>NaN</td>\n",
              "      <td>NaN</td>\n",
              "      <td>NaN</td>\n",
              "      <td>NaN</td>\n",
              "    </tr>\n",
              "  </tbody>\n",
              "</table>\n",
              "</div>"
            ],
            "text/plain": [
              "          visitNumber  ...  channelGrouping\n",
              "count   260233.000000  ...           260233\n",
              "unique            NaN  ...                8\n",
              "top               NaN  ...   Organic Search\n",
              "freq              NaN  ...           130422\n",
              "mean         2.345221  ...              NaN\n",
              "std         10.014187  ...              NaN\n",
              "min          1.000000  ...              NaN\n",
              "25%          1.000000  ...              NaN\n",
              "50%          1.000000  ...              NaN\n",
              "75%          1.000000  ...              NaN\n",
              "max        394.000000  ...              NaN\n",
              "\n",
              "[11 rows x 15 columns]"
            ]
          },
          "metadata": {
            "tags": []
          },
          "execution_count": 11
        }
      ]
    },
    {
      "cell_type": "code",
      "metadata": {
        "colab_type": "code",
        "id": "_1NwYqGwDjFf",
        "outputId": "63a6a8de-db68-4bbb-cb27-8f9316e55f8c",
        "colab": {
          "base_uri": "https://localhost:8080/",
          "height": 34
        }
      },
      "source": [
        "dftrain.shape[0], dfeval.shape[0], dftest.shape[0]"
      ],
      "execution_count": 0,
      "outputs": [
        {
          "output_type": "execute_result",
          "data": {
            "text/plain": [
              "(260233, 65059, 139412)"
            ]
          },
          "metadata": {
            "tags": []
          },
          "execution_count": 12
        }
      ]
    },
    {
      "cell_type": "markdown",
      "metadata": {
        "colab_type": "text",
        "id": "krkRHuMp3rJn"
      },
      "source": [
        "## Create feature columns and input functions\n",
        "The Gradient Boosted Trees Classifier needs utilize both numeric and categorical features. \n",
        "Need to make define feature columns as categorical and numeric features"
      ]
    },
    {
      "cell_type": "code",
      "metadata": {
        "id": "SNLu0jp85t0V",
        "colab_type": "code",
        "outputId": "232b1b8b-b1e2-4e72-c14b-c4db0253e6da",
        "colab": {
          "base_uri": "https://localhost:8080/",
          "height": 301
        }
      },
      "source": [
        "dftrain.dtypes"
      ],
      "execution_count": 0,
      "outputs": [
        {
          "output_type": "execute_result",
          "data": {
            "text/plain": [
              "visitNumber                   int64\n",
              "date                          int64\n",
              "visitStartTime                int64\n",
              "totals_bounces              float64\n",
              "totals_pageviews            float64\n",
              "totals_timeOnSite           float64\n",
              "totals_transactions         float64\n",
              "trafficSource_source         object\n",
              "trafficSource_medium         object\n",
              "trafficSource_campaign       object\n",
              "device_deviceCategory        object\n",
              "device_operatingSystem       object\n",
              "device_mobileDeviceModel     object\n",
              "geoNetwork_city              object\n",
              "channelGrouping              object\n",
              "dtype: object"
            ]
          },
          "metadata": {
            "tags": []
          },
          "execution_count": 13
        }
      ]
    },
    {
      "cell_type": "code",
      "metadata": {
        "colab_type": "code",
        "id": "upaNWxcF3rJn",
        "colab": {}
      },
      "source": [
        "fc = tf.feature_column\n",
        "CATEGORICAL_COLUMNS = ['trafficSource_source','trafficSource_medium',\n",
        "       'trafficSource_campaign', 'device_deviceCategory',\n",
        "       'device_operatingSystem', 'device_mobileDeviceModel', 'geoNetwork_city',\n",
        "       'channelGrouping']\n",
        "NUMERIC_COLUMNS = ['visitNumber', 'date', 'visitStartTime', 'totals_bounces', 'totals_pageviews', 'totals_timeOnSite',\n",
        "                   'totals_transactions']\n",
        "\n",
        "def one_hot_cat_column(feature_name, vocab):\n",
        "  return tf.feature_column.indicator_column(\n",
        "      tf.feature_column.categorical_column_with_vocabulary_list(feature_name,\n",
        "                                                 vocab))\n",
        "\n",
        "feature_columns = []\n",
        "for feature_name in NUMERIC_COLUMNS:\n",
        "  feature_columns.append(tf.feature_column.numeric_column(feature_name))\n",
        "  \n",
        "for feature_name in CATEGORICAL_COLUMNS:\n",
        "  # Need to one-hot encode categorical features.\n",
        "  vocabulary = dftrain[feature_name].unique()\n",
        "  # print(vocabulary)\n",
        "  feature_columns.append(one_hot_cat_column(feature_name, vocabulary))\n"
      ],
      "execution_count": 0,
      "outputs": []
    },
    {
      "cell_type": "code",
      "metadata": {
        "colab_type": "code",
        "id": "9dquwCQB3rJp",
        "outputId": "0c385588-2756-41e3-ec43-127e8806cb53",
        "colab": {
          "base_uri": "https://localhost:8080/",
          "height": 34
        }
      },
      "source": [
        "# For Boosted Tree need to define tf.Data dataset in input function\n",
        "# Use entire batch since this is such a small dataset.\n",
        "NUM_EXAMPLES = len(y_train)\n",
        "print(NUM_EXAMPLES)\n",
        "def make_input_fn(X, y, n_epochs=None, shuffle=True):\n",
        "  def input_fn():\n",
        "    dataset = tf.data.Dataset.from_tensor_slices((dict(X), y))\n",
        "    if shuffle:\n",
        "      dataset = dataset.shuffle(NUM_EXAMPLES)\n",
        "    # For training, cycle thru dataset as many times as need (n_epochs=None).\n",
        "    dataset = dataset.repeat(n_epochs)\n",
        "    # In memory training doesn't use batching.\n",
        "    dataset = dataset.batch(NUM_EXAMPLES)\n",
        "    return dataset\n",
        "  return input_fn\n",
        "\n",
        "# Training and evaluation input functions.\n",
        "train_input_fn = make_input_fn(dftrain, y_train)\n",
        "test_input_fn = make_input_fn(dftest, y_test, shuffle=False, n_epochs=1)\n",
        "eval_input_fn = make_input_fn(dfeval, y_eval, shuffle=False, n_epochs=1)\n"
      ],
      "execution_count": 0,
      "outputs": [
        {
          "output_type": "stream",
          "text": [
            "260233\n"
          ],
          "name": "stdout"
        }
      ]
    },
    {
      "cell_type": "markdown",
      "metadata": {
        "colab_type": "text",
        "id": "HttfNNlN3rJr"
      },
      "source": [
        "## Train and evaluate the model\n"
      ]
    },
    {
      "cell_type": "markdown",
      "metadata": {
        "id": "Mrp_lgnaVQI3",
        "colab_type": "text"
      },
      "source": [
        "###Training a Basic Decision Tree classifier first"
      ]
    },
    {
      "cell_type": "code",
      "metadata": {
        "id": "LEEOV6j4TOI9",
        "colab_type": "code",
        "colab": {}
      },
      "source": [
        "from sklearn import tree"
      ],
      "execution_count": 0,
      "outputs": []
    },
    {
      "cell_type": "code",
      "metadata": {
        "id": "nPdIaztbcMJs",
        "colab_type": "code",
        "colab": {}
      },
      "source": [
        ""
      ],
      "execution_count": 0,
      "outputs": []
    },
    {
      "cell_type": "code",
      "metadata": {
        "id": "gqIrw90DWK01",
        "colab_type": "code",
        "outputId": "2eb79bdf-9b0a-42d9-bc6b-ffc3a362ee4d",
        "colab": {
          "base_uri": "https://localhost:8080/",
          "height": 143
        }
      },
      "source": [
        "train_tree_input = tf.keras.layers.DenseFeatures(feature_columns)(dict(dftrain)).numpy()\n",
        "clf = tree.DecisionTreeClassifier()\n",
        "clf = clf.fit(train_tree_input,y_train)"
      ],
      "execution_count": 0,
      "outputs": [
        {
          "output_type": "stream",
          "text": [
            "WARNING:tensorflow:From /tensorflow-2.0.0/python3.6/tensorflow_core/python/feature_column/feature_column_v2.py:4276: IndicatorColumn._variable_shape (from tensorflow.python.feature_column.feature_column_v2) is deprecated and will be removed in a future version.\n",
            "Instructions for updating:\n",
            "The old _FeatureColumn APIs are being deprecated. Please use the new FeatureColumn APIs instead.\n",
            "WARNING:tensorflow:From /tensorflow-2.0.0/python3.6/tensorflow_core/python/feature_column/feature_column_v2.py:4331: VocabularyListCategoricalColumn._num_buckets (from tensorflow.python.feature_column.feature_column_v2) is deprecated and will be removed in a future version.\n",
            "Instructions for updating:\n",
            "The old _FeatureColumn APIs are being deprecated. Please use the new FeatureColumn APIs instead.\n"
          ],
          "name": "stdout"
        }
      ]
    },
    {
      "cell_type": "code",
      "metadata": {
        "id": "g98FWbBiVhaG",
        "colab_type": "code",
        "colab": {}
      },
      "source": [
        "eval_tree_input = tf.keras.layers.DenseFeatures(feature_columns)(dict(dfeval)).numpy()\n",
        "eval_preds = clf.predict(eval_tree_input)"
      ],
      "execution_count": 0,
      "outputs": []
    },
    {
      "cell_type": "code",
      "metadata": {
        "id": "f55bZODWVhnG",
        "colab_type": "code",
        "outputId": "4a668c8c-76eb-4f87-878d-388c3727fd28",
        "colab": {
          "base_uri": "https://localhost:8080/",
          "height": 107
        }
      },
      "source": [
        "from sklearn.metrics import confusion_matrix\n",
        "\n",
        "pd.DataFrame(\n",
        "    confusion_matrix(y_eval, eval_preds),\n",
        "    columns=['Predicted No Transaction', 'Predicted Transaction'],\n",
        "    index=['True No Transaction', 'True Transaction']\n",
        ")"
      ],
      "execution_count": 0,
      "outputs": [
        {
          "output_type": "execute_result",
          "data": {
            "text/html": [
              "<div>\n",
              "<style scoped>\n",
              "    .dataframe tbody tr th:only-of-type {\n",
              "        vertical-align: middle;\n",
              "    }\n",
              "\n",
              "    .dataframe tbody tr th {\n",
              "        vertical-align: top;\n",
              "    }\n",
              "\n",
              "    .dataframe thead th {\n",
              "        text-align: right;\n",
              "    }\n",
              "</style>\n",
              "<table border=\"1\" class=\"dataframe\">\n",
              "  <thead>\n",
              "    <tr style=\"text-align: right;\">\n",
              "      <th></th>\n",
              "      <th>Predicted No Transaction</th>\n",
              "      <th>Predicted Transaction</th>\n",
              "    </tr>\n",
              "  </thead>\n",
              "  <tbody>\n",
              "    <tr>\n",
              "      <th>True No Transaction</th>\n",
              "      <td>64145</td>\n",
              "      <td>0</td>\n",
              "    </tr>\n",
              "    <tr>\n",
              "      <th>True Transaction</th>\n",
              "      <td>0</td>\n",
              "      <td>914</td>\n",
              "    </tr>\n",
              "  </tbody>\n",
              "</table>\n",
              "</div>"
            ],
            "text/plain": [
              "                     Predicted No Transaction  Predicted Transaction\n",
              "True No Transaction                     64145                      0\n",
              "True Transaction                            0                    914"
            ]
          },
          "metadata": {
            "tags": []
          },
          "execution_count": 19
        }
      ]
    },
    {
      "cell_type": "code",
      "metadata": {
        "id": "hGtTQS6P5dmF",
        "colab_type": "code",
        "colab": {}
      },
      "source": [
        "test_tree_input = tf.keras.layers.DenseFeatures(feature_columns)(dict(dftest)).numpy()\n",
        "test_preds = clf.predict(test_tree_input)"
      ],
      "execution_count": 0,
      "outputs": []
    },
    {
      "cell_type": "code",
      "metadata": {
        "colab_type": "code",
        "outputId": "71e14dfc-8768-4fb2-a5f4-5fe2619671f7",
        "id": "zmFyUY6j9JNA",
        "colab": {
          "base_uri": "https://localhost:8080/",
          "height": 107
        }
      },
      "source": [
        "pd.DataFrame(\n",
        "    confusion_matrix(y_test, test_preds),\n",
        "    columns=['Predicted No Transaction', 'Predicted Transaction'],\n",
        "    index=['True No Transaction', 'True Transaction']\n",
        ")"
      ],
      "execution_count": 0,
      "outputs": [
        {
          "output_type": "execute_result",
          "data": {
            "text/html": [
              "<div>\n",
              "<style scoped>\n",
              "    .dataframe tbody tr th:only-of-type {\n",
              "        vertical-align: middle;\n",
              "    }\n",
              "\n",
              "    .dataframe tbody tr th {\n",
              "        vertical-align: top;\n",
              "    }\n",
              "\n",
              "    .dataframe thead th {\n",
              "        text-align: right;\n",
              "    }\n",
              "</style>\n",
              "<table border=\"1\" class=\"dataframe\">\n",
              "  <thead>\n",
              "    <tr style=\"text-align: right;\">\n",
              "      <th></th>\n",
              "      <th>Predicted No Transaction</th>\n",
              "      <th>Predicted Transaction</th>\n",
              "    </tr>\n",
              "  </thead>\n",
              "  <tbody>\n",
              "    <tr>\n",
              "      <th>True No Transaction</th>\n",
              "      <td>137552</td>\n",
              "      <td>0</td>\n",
              "    </tr>\n",
              "    <tr>\n",
              "      <th>True Transaction</th>\n",
              "      <td>0</td>\n",
              "      <td>1860</td>\n",
              "    </tr>\n",
              "  </tbody>\n",
              "</table>\n",
              "</div>"
            ],
            "text/plain": [
              "                     Predicted No Transaction  Predicted Transaction\n",
              "True No Transaction                    137552                      0\n",
              "True Transaction                            0                   1860"
            ]
          },
          "metadata": {
            "tags": []
          },
          "execution_count": 21
        }
      ]
    },
    {
      "cell_type": "code",
      "metadata": {
        "id": "3xEH6NxK5d2-",
        "colab_type": "code",
        "colab": {}
      },
      "source": [
        ""
      ],
      "execution_count": 0,
      "outputs": []
    },
    {
      "cell_type": "code",
      "metadata": {
        "id": "xRT6F6rvZDmS",
        "colab_type": "code",
        "outputId": "02ef39fb-f08f-493c-9d81-bfcadb98d992",
        "colab": {
          "base_uri": "https://localhost:8080/",
          "height": 34
        }
      },
      "source": [
        "from sklearn.metrics import accuracy_score\n",
        "\n",
        "accuracy_score(y_test, test_preds)"
      ],
      "execution_count": 0,
      "outputs": [
        {
          "output_type": "execute_result",
          "data": {
            "text/plain": [
              "1.0"
            ]
          },
          "metadata": {
            "tags": []
          },
          "execution_count": 22
        }
      ]
    },
    {
      "cell_type": "markdown",
      "metadata": {
        "colab_type": "text",
        "id": "BarkNXwA3rJu"
      },
      "source": [
        "### Boosted Trees model. \n",
        "\n",
        "\n"
      ]
    },
    {
      "cell_type": "code",
      "metadata": {
        "colab_type": "code",
        "id": "tgEzMtlw3rJu",
        "outputId": "3e2f5feb-2e48-444e-e58d-f16cb20cd1d6",
        "colab": {
          "base_uri": "https://localhost:8080/",
          "height": 230
        }
      },
      "source": [
        "# Since data fits into memory, use entire dataset per layer. It will be faster.\n",
        "# Above one batch is defined as the entire dataset.\n",
        "n_batches = 1\n",
        "\n",
        "est = tf.estimator.BoostedTreesClassifier(feature_columns,\n",
        "                                          n_batches_per_layer=n_batches)\n",
        "\n",
        "est.train(train_input_fn, max_steps=70)\n",
        "\n",
        "# Eval.\n",
        "result = est.evaluate(eval_input_fn)\n",
        "clear_output()\n",
        "print(pd.Series(result))"
      ],
      "execution_count": 0,
      "outputs": [
        {
          "output_type": "stream",
          "text": [
            "accuracy                 1.000000\n",
            "accuracy_baseline        0.985951\n",
            "auc                      1.000000\n",
            "auc_precision_recall     1.000000\n",
            "average_loss             0.000440\n",
            "label/mean               0.014049\n",
            "loss                     0.000440\n",
            "precision                1.000000\n",
            "prediction/mean          0.014476\n",
            "recall                   1.000000\n",
            "global_step             70.000000\n",
            "dtype: float64\n"
          ],
          "name": "stdout"
        }
      ]
    },
    {
      "cell_type": "code",
      "metadata": {
        "id": "dAUKFn8ioo9X",
        "colab_type": "code",
        "colab": {}
      },
      "source": [
        ""
      ],
      "execution_count": 0,
      "outputs": []
    },
    {
      "cell_type": "markdown",
      "metadata": {
        "id": "b1nljKKg9rYB",
        "colab_type": "text"
      },
      "source": [
        "Plotting the performance on test data"
      ]
    },
    {
      "cell_type": "code",
      "metadata": {
        "colab_type": "code",
        "id": "6zmIjTr73rJ4",
        "outputId": "9b6bd832-e618-4fc9-e31f-19a63d78a11d",
        "colab": {
          "base_uri": "https://localhost:8080/",
          "height": 443
        }
      },
      "source": [
        "pred_dicts = list(est.predict(test_input_fn))\n",
        "\n",
        "probs = pd.Series([pred['probabilities'][1] for pred in pred_dicts])\n",
        "\n",
        "# print(pred_dicts)\n",
        "ind = [0.0,1.0]\n",
        "plt.xticks(ind, ('Wont', 'Will'))\n",
        "\n",
        "probs.plot(kind='hist', bins=2, title='predicted probabilities', colors='green')\n",
        "plt.show()"
      ],
      "execution_count": 0,
      "outputs": [
        {
          "output_type": "stream",
          "text": [
            "INFO:tensorflow:Calling model_fn.\n",
            "INFO:tensorflow:Done calling model_fn.\n",
            "INFO:tensorflow:Graph was finalized.\n",
            "INFO:tensorflow:Restoring parameters from /tmp/tmphh2lhufz/model.ckpt-70\n",
            "INFO:tensorflow:Running local_init_op.\n",
            "INFO:tensorflow:Done running local_init_op.\n"
          ],
          "name": "stdout"
        },
        {
          "output_type": "stream",
          "text": [
            "/usr/local/lib/python3.6/dist-packages/pandas/plotting/_matplotlib/core.py:203: UserWarning: 'colors' is being deprecated. Please use 'color'instead of 'colors'\n",
            "  \"'colors' is being deprecated. Please use 'color'\"\n"
          ],
          "name": "stderr"
        },
        {
          "output_type": "display_data",
          "data": {
            "image/png": "[encoded data removed]",
            "text/plain": [
              "<Figure size 432x288 with 1 Axes>"
            ]
          },
          "metadata": {
            "tags": []
          }
        }
      ]
    },
    {
      "cell_type": "code",
      "metadata": {
        "id": "3BhGdm3c5xrW",
        "colab_type": "code",
        "colab": {}
      },
      "source": [
        ""
      ],
      "execution_count": 0,
      "outputs": []
    },
    {
      "cell_type": "markdown",
      "metadata": {
        "id": "3oWqB1xg5yT8",
        "colab_type": "text"
      },
      "source": [
        "##Plotting the ROC for both\n"
      ]
    },
    {
      "cell_type": "markdown",
      "metadata": {
        "colab_type": "text",
        "id": "mBUaNN1BzJHG"
      },
      "source": [
        "Plotting the Receiver Operating Characteristic (ROC) of the results\n",
        "\n",
        "Given the size of the dataset it is likely there is overfitting in the results, \n",
        "as such given more data and better models, a generalized classifier can be made."
      ]
    },
    {
      "cell_type": "markdown",
      "metadata": {
        "id": "ZpDUipEm8ZYl",
        "colab_type": "text"
      },
      "source": [
        "First for Basic Decision Tree:"
      ]
    },
    {
      "cell_type": "code",
      "metadata": {
        "colab_type": "code",
        "outputId": "682e2525-38ed-4e07-be6a-1a090a25b976",
        "id": "5gHjOmkf8fAV",
        "colab": {
          "base_uri": "https://localhost:8080/",
          "height": 294
        }
      },
      "source": [
        "from sklearn.metrics import roc_curve\n",
        "# Gradienr Boosted Tree\n",
        "fpr, tpr, _ = roc_curve(y_test, test_preds)\n",
        "# fig=plt.figure(figsize=(10,10), dpi= 80, facecolor='w', edgecolor='k')\n",
        "\n",
        "plt.plot(fpr, tpr, color='purple', linewidth=4)\n",
        "plt.title('ROC curve for Basic Decision Tree')\n",
        "plt.xlabel('false positive rate')\n",
        "plt.ylabel('true positive rate')\n",
        "plt.xlim(0,)\n",
        "plt.ylim(0,)\n",
        "plt.show()"
      ],
      "execution_count": 0,
      "outputs": [
        {
          "output_type": "display_data",
          "data": {
            "image/png": "[encoded data removed]",
            "text/plain": [
              "<Figure size 432x288 with 1 Axes>"
            ]
          },
          "metadata": {
            "tags": []
          }
        }
      ]
    },
    {
      "cell_type": "markdown",
      "metadata": {
        "id": "NukJycT98hXc",
        "colab_type": "text"
      },
      "source": [
        "For Boosted Tree Classifier:"
      ]
    },
    {
      "cell_type": "code",
      "metadata": {
        "colab_type": "code",
        "id": "NzxghvVz3rJ6",
        "outputId": "bf4ef850-2d1d-4bf7-fb60-2f19bed5ebdd",
        "colab": {
          "base_uri": "https://localhost:8080/",
          "height": 294
        }
      },
      "source": [
        "from sklearn.metrics import roc_curve\n",
        "# Gradienr Boosted Tree\n",
        "fpr, tpr, _ = roc_curve(y_test, probs)\n",
        "# fig=plt.figure(figsize=(10,10), dpi= 80, facecolor='w', edgecolor='k')\n",
        "\n",
        "plt.plot(fpr, tpr, color='green', linewidth=4)\n",
        "plt.title('ROC curve for Boosted Tree')\n",
        "plt.xlabel('false positive rate')\n",
        "plt.ylabel('true positive rate')\n",
        "plt.xlim(0,)\n",
        "plt.ylim(0,)\n",
        "plt.show()"
      ],
      "execution_count": 0,
      "outputs": [
        {
          "output_type": "display_data",
          "data": {
            "image/png": "[encoded data removed]",
            "text/plain": [
              "<Figure size 432x288 with 1 Axes>"
            ]
          },
          "metadata": {
            "tags": []
          }
        }
      ]
    },
    {
      "cell_type": "markdown",
      "metadata": {
        "id": "u-8Klk-I84XM",
        "colab_type": "text"
      },
      "source": [
        "##rough"
      ]
    },
    {
      "cell_type": "code",
      "metadata": {
        "id": "SYf1eBdMdp8F",
        "colab_type": "code",
        "outputId": "3394356c-5273-4b35-9bb0-77b1273ae1b5",
        "colab": {
          "base_uri": "https://localhost:8080/",
          "height": 264
        }
      },
      "source": [
        "\"\"\"\n",
        "Simple demo of a scatter plot.\n",
        "\"\"\"\n",
        "import numpy as np\n",
        "import matplotlib.pyplot as plt\n",
        "\n",
        "\n",
        "N = 50\n",
        "x = np.random.rand(N)\n",
        "y = np.random.rand(N)\n",
        "colors = np.random.rand(N)\n",
        "area = np.pi * (5 * np.random.rand(N))**2  # 0 to 15 point radii\n",
        "\n",
        "plt.scatter(x, y, s=area, c=colors, alpha=0.5)\n",
        "plt.show()\n"
      ],
      "execution_count": 0,
      "outputs": [
        {
          "output_type": "display_data",
          "data": {
            "image/png": "[encoded data removed]",
            "text/plain": [
              "<Figure size 432x288 with 1 Axes>"
            ]
          },
          "metadata": {
            "tags": []
          }
        }
      ]
    },
    {
      "cell_type": "code",
      "metadata": {
        "id": "Ndq5Z3Qa5QJA",
        "colab_type": "code",
        "outputId": "f4c28d09-5308-4af4-fa5b-5aedb6b915ff",
        "colab": {
          "base_uri": "https://localhost:8080/",
          "height": 281
        }
      },
      "source": [
        "# a stacked bar plot with errorbars\n",
        "import numpy as np\n",
        "import matplotlib.pyplot as plt\n",
        "\n",
        "\n",
        "N = 5\n",
        "menMeans = (20, 35, 30, 35, 27)\n",
        "womenMeans = (25, 32, 34, 20, 25)\n",
        "menStd = (2, 3, 4, 1, 2)\n",
        "womenStd = (3, 5, 2, 3, 3)\n",
        "ind = np.arange(N)    # the x locations for the groups\n",
        "width = 0.35       # the width of the bars: can also be len(x) sequence\n",
        "\n",
        "p1 = plt.bar(ind, menMeans, width, color='#d62728', yerr=menStd)\n",
        "p2 = plt.bar(ind, womenMeans, width,\n",
        "             bottom=menMeans, yerr=womenStd)\n",
        "\n",
        "plt.ylabel('Scores')\n",
        "plt.title('Scores by group and gender')\n",
        "plt.xticks(ind, ('G1', 'G2', 'G3', 'G4', 'G5'))\n",
        "plt.yticks(np.arange(0, 81, 10))\n",
        "plt.legend((p1[0], p2[0]), ('Men', 'Women'))\n",
        "\n",
        "plt.show()\n"
      ],
      "execution_count": 0,
      "outputs": [
        {
          "output_type": "display_data",
          "data": {
            "image/png": "[encoded data removed]",
            "text/plain": [
              "<Figure size 432x288 with 1 Axes>"
            ]
          },
          "metadata": {
            "tags": []
          }
        }
      ]
    }
  ]
}