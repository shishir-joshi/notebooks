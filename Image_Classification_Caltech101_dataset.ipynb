{
  "nbformat": 4,
  "nbformat_minor": 0,
  "metadata": {
    "colab": {
      "name": "Image Classification Task",
      "provenance": [],
      "collapsed_sections": [],
      "toc_visible": true,
      "include_colab_link": true
    },
    "kernelspec": {
      "name": "python3",
      "display_name": "Python 3"
    },
    "accelerator": "GPU"
  },
  "cells": [
    {
      "cell_type": "markdown",
      "metadata": {
        "id": "view-in-github",
        "colab_type": "text"
      },
      "source": [
        "<a href=\"https://colab.research.google.com/github/shishir-joshi/notebooks/blob/master/Image_Classification_Caltech101_dataset.ipynb\" target=\"_parent\"><img src=\"https://colab.research.google.com/assets/colab-badge.svg\" alt=\"Open In Colab\"/></a>"
      ]
    },
    {
      "cell_type": "markdown",
      "metadata": {
        "id": "IM3qqx6AmRSg",
        "colab_type": "text"
      },
      "source": [
        "##Training a CNN on the Caltech101 dataset\n",
        "\n",
        "[http://www.vision.caltech.edu/Image_Datasets/Caltech101/]\n",
        "\n",
        "There are 101 categories with 300x200 px per image"
      ]
    },
    {
      "cell_type": "code",
      "metadata": {
        "id": "e_rHxBZAoN_3",
        "colab_type": "code",
        "outputId": "c04a711f-675f-498f-db0a-3698bf583b4f",
        "colab": {
          "base_uri": "https://localhost:8080/",
          "height": 943
        }
      },
      "source": [
        "!pip install tensorflow-gpu==2.0.0-alpha0\n",
        "import numpy as np\n",
        "import tensorflow as tf\n",
        "import matplotlib.pyplot as plt\n",
        "import tensorflow.keras as keras\n",
        "import tarfile\n",
        "import random\n",
        "from pathlib import Path\n",
        "from tensorflow.keras.models import Sequential\n",
        "from tensorflow.keras.layers import Embedding,Dense,Flatten,Conv2D,MaxPool2D,BatchNormalization\n",
        "from tensorflow.keras.optimizers import Adamax,Nadam,Adam,Adagrad,RMSprop\n",
        "from tensorflow.keras.losses import mean_squared_logarithmic_error,categorical_crossentropy\n",
        "from tensorflow.keras.utils import to_categorical\n",
        "from sklearn.model_selection import train_test_split\n",
        "from tensorflow.keras.callbacks import ModelCheckpoint\n",
        "from random import shuffle\n",
        "#tf.enable_eager_execution()"
      ],
      "execution_count": 1,
      "outputs": [
        {
          "output_type": "stream",
          "text": [
            "Collecting tensorflow-gpu==2.0.0-alpha0\n",
            "\u001b[?25l  Downloading https://files.pythonhosted.org/packages/1a/66/32cffad095253219d53f6b6c2a436637bbe45ac4e7be0244557210dc3918/tensorflow_gpu-2.0.0a0-cp36-cp36m-manylinux1_x86_64.whl (332.1MB)\n",
            "\u001b[K     |████████████████████████████████| 332.1MB 54kB/s \n",
            "\u001b[?25hRequirement already satisfied: absl-py>=0.7.0 in /usr/local/lib/python3.6/dist-packages (from tensorflow-gpu==2.0.0-alpha0) (0.8.1)\n",
            "Collecting tb-nightly<1.14.0a20190302,>=1.14.0a20190301\n",
            "\u001b[?25l  Downloading https://files.pythonhosted.org/packages/a9/51/aa1d756644bf4624c03844115e4ac4058eff77acd786b26315f051a4b195/tb_nightly-1.14.0a20190301-py3-none-any.whl (3.0MB)\n",
            "\u001b[K     |████████████████████████████████| 3.0MB 37.3MB/s \n",
            "\u001b[?25hRequirement already satisfied: protobuf>=3.6.1 in /usr/local/lib/python3.6/dist-packages (from tensorflow-gpu==2.0.0-alpha0) (3.10.0)\n",
            "Requirement already satisfied: google-pasta>=0.1.2 in /usr/local/lib/python3.6/dist-packages (from tensorflow-gpu==2.0.0-alpha0) (0.1.8)\n",
            "Requirement already satisfied: wheel>=0.26 in /usr/local/lib/python3.6/dist-packages (from tensorflow-gpu==2.0.0-alpha0) (0.33.6)\n",
            "Requirement already satisfied: numpy<2.0,>=1.14.5 in /usr/local/lib/python3.6/dist-packages (from tensorflow-gpu==2.0.0-alpha0) (1.17.4)\n",
            "Requirement already satisfied: keras-applications>=1.0.6 in /usr/local/lib/python3.6/dist-packages (from tensorflow-gpu==2.0.0-alpha0) (1.0.8)\n",
            "Requirement already satisfied: termcolor>=1.1.0 in /usr/local/lib/python3.6/dist-packages (from tensorflow-gpu==2.0.0-alpha0) (1.1.0)\n",
            "Requirement already satisfied: keras-preprocessing>=1.0.5 in /usr/local/lib/python3.6/dist-packages (from tensorflow-gpu==2.0.0-alpha0) (1.1.0)\n",
            "Requirement already satisfied: gast>=0.2.0 in /usr/local/lib/python3.6/dist-packages (from tensorflow-gpu==2.0.0-alpha0) (0.2.2)\n",
            "Requirement already satisfied: astor>=0.6.0 in /usr/local/lib/python3.6/dist-packages (from tensorflow-gpu==2.0.0-alpha0) (0.8.0)\n",
            "Collecting tf-estimator-nightly<1.14.0.dev2019030116,>=1.14.0.dev2019030115\n",
            "\u001b[?25l  Downloading https://files.pythonhosted.org/packages/13/82/f16063b4eed210dc2ab057930ac1da4fbe1e91b7b051a6c8370b401e6ae7/tf_estimator_nightly-1.14.0.dev2019030115-py2.py3-none-any.whl (411kB)\n",
            "\u001b[K     |████████████████████████████████| 419kB 44.0MB/s \n",
            "\u001b[?25hRequirement already satisfied: grpcio>=1.8.6 in /usr/local/lib/python3.6/dist-packages (from tensorflow-gpu==2.0.0-alpha0) (1.15.0)\n",
            "Requirement already satisfied: six>=1.10.0 in /usr/local/lib/python3.6/dist-packages (from tensorflow-gpu==2.0.0-alpha0) (1.12.0)\n",
            "Requirement already satisfied: markdown>=2.6.8 in /usr/local/lib/python3.6/dist-packages (from tb-nightly<1.14.0a20190302,>=1.14.0a20190301->tensorflow-gpu==2.0.0-alpha0) (3.1.1)\n",
            "Requirement already satisfied: werkzeug>=0.11.15 in /usr/local/lib/python3.6/dist-packages (from tb-nightly<1.14.0a20190302,>=1.14.0a20190301->tensorflow-gpu==2.0.0-alpha0) (0.16.0)\n",
            "Requirement already satisfied: setuptools in /usr/local/lib/python3.6/dist-packages (from protobuf>=3.6.1->tensorflow-gpu==2.0.0-alpha0) (42.0.1)\n",
            "Requirement already satisfied: h5py in /usr/local/lib/python3.6/dist-packages (from keras-applications>=1.0.6->tensorflow-gpu==2.0.0-alpha0) (2.8.0)\n",
            "Installing collected packages: tb-nightly, tf-estimator-nightly, tensorflow-gpu\n",
            "Successfully installed tb-nightly-1.14.0a20190301 tensorflow-gpu-2.0.0a0 tf-estimator-nightly-1.14.0.dev2019030115\n"
          ],
          "name": "stdout"
        },
        {
          "output_type": "stream",
          "text": [
            "/usr/local/lib/python3.6/dist-packages/tensorflow/python/framework/dtypes.py:523: FutureWarning: Passing (type, 1) or '1type' as a synonym of type is deprecated; in a future version of numpy, it will be understood as (type, (1,)) / '(1,)type'.\n",
            "  _np_qint8 = np.dtype([(\"qint8\", np.int8, 1)])\n",
            "/usr/local/lib/python3.6/dist-packages/tensorflow/python/framework/dtypes.py:524: FutureWarning: Passing (type, 1) or '1type' as a synonym of type is deprecated; in a future version of numpy, it will be understood as (type, (1,)) / '(1,)type'.\n",
            "  _np_quint8 = np.dtype([(\"quint8\", np.uint8, 1)])\n",
            "/usr/local/lib/python3.6/dist-packages/tensorflow/python/framework/dtypes.py:525: FutureWarning: Passing (type, 1) or '1type' as a synonym of type is deprecated; in a future version of numpy, it will be understood as (type, (1,)) / '(1,)type'.\n",
            "  _np_qint16 = np.dtype([(\"qint16\", np.int16, 1)])\n",
            "/usr/local/lib/python3.6/dist-packages/tensorflow/python/framework/dtypes.py:526: FutureWarning: Passing (type, 1) or '1type' as a synonym of type is deprecated; in a future version of numpy, it will be understood as (type, (1,)) / '(1,)type'.\n",
            "  _np_quint16 = np.dtype([(\"quint16\", np.uint16, 1)])\n",
            "/usr/local/lib/python3.6/dist-packages/tensorflow/python/framework/dtypes.py:527: FutureWarning: Passing (type, 1) or '1type' as a synonym of type is deprecated; in a future version of numpy, it will be understood as (type, (1,)) / '(1,)type'.\n",
            "  _np_qint32 = np.dtype([(\"qint32\", np.int32, 1)])\n",
            "/usr/local/lib/python3.6/dist-packages/tensorflow/python/framework/dtypes.py:532: FutureWarning: Passing (type, 1) or '1type' as a synonym of type is deprecated; in a future version of numpy, it will be understood as (type, (1,)) / '(1,)type'.\n",
            "  np_resource = np.dtype([(\"resource\", np.ubyte, 1)])\n",
            "/usr/local/lib/python3.6/dist-packages/tensorboard/compat/tensorflow_stub/dtypes.py:541: FutureWarning: Passing (type, 1) or '1type' as a synonym of type is deprecated; in a future version of numpy, it will be understood as (type, (1,)) / '(1,)type'.\n",
            "  _np_qint8 = np.dtype([(\"qint8\", np.int8, 1)])\n",
            "/usr/local/lib/python3.6/dist-packages/tensorboard/compat/tensorflow_stub/dtypes.py:542: FutureWarning: Passing (type, 1) or '1type' as a synonym of type is deprecated; in a future version of numpy, it will be understood as (type, (1,)) / '(1,)type'.\n",
            "  _np_quint8 = np.dtype([(\"quint8\", np.uint8, 1)])\n",
            "/usr/local/lib/python3.6/dist-packages/tensorboard/compat/tensorflow_stub/dtypes.py:543: FutureWarning: Passing (type, 1) or '1type' as a synonym of type is deprecated; in a future version of numpy, it will be understood as (type, (1,)) / '(1,)type'.\n",
            "  _np_qint16 = np.dtype([(\"qint16\", np.int16, 1)])\n",
            "/usr/local/lib/python3.6/dist-packages/tensorboard/compat/tensorflow_stub/dtypes.py:544: FutureWarning: Passing (type, 1) or '1type' as a synonym of type is deprecated; in a future version of numpy, it will be understood as (type, (1,)) / '(1,)type'.\n",
            "  _np_quint16 = np.dtype([(\"quint16\", np.uint16, 1)])\n",
            "/usr/local/lib/python3.6/dist-packages/tensorboard/compat/tensorflow_stub/dtypes.py:545: FutureWarning: Passing (type, 1) or '1type' as a synonym of type is deprecated; in a future version of numpy, it will be understood as (type, (1,)) / '(1,)type'.\n",
            "  _np_qint32 = np.dtype([(\"qint32\", np.int32, 1)])\n",
            "/usr/local/lib/python3.6/dist-packages/tensorboard/compat/tensorflow_stub/dtypes.py:550: FutureWarning: Passing (type, 1) or '1type' as a synonym of type is deprecated; in a future version of numpy, it will be understood as (type, (1,)) / '(1,)type'.\n",
            "  np_resource = np.dtype([(\"resource\", np.ubyte, 1)])\n"
          ],
          "name": "stderr"
        }
      ]
    },
    {
      "cell_type": "markdown",
      "metadata": {
        "id": "R12HNNjQolB4",
        "colab_type": "text"
      },
      "source": [
        "Structure of the code:\n",
        "    1. Download the dataset\n",
        "    2. Define parameters: batch_size,epochs,num_classes\n",
        "    3. Make Util Methods: \n",
        "            Pre-process, Get Labels from prediction, \n",
        "            shuffle, Make labels as categorical\n",
        "    4. Define Dataset Preparation Methods:  \n",
        "            return (x_tr,y_tr),(x_te,y_te) shuffled, batched tuples as numpy/tf.data\n",
        "    6. %Make Learning rate scheduler\n",
        "    7. Define Model:\n",
        "            i. Transfer Learning on MobileNetv2 \n",
        "            ii. My Model\n",
        "    8. Train and Evaluate\n"
      ]
    },
    {
      "cell_type": "code",
      "metadata": {
        "id": "z-lz8pQdohq4",
        "colab_type": "code",
        "outputId": "2a456193-dcb4-484e-a18c-4fb8b70e1411",
        "colab": {
          "base_uri": "https://localhost:8080/",
          "height": 212
        }
      },
      "source": [
        "!wget http://www.vision.caltech.edu/Image_Datasets/Caltech101/101_ObjectCategories.tar.gz\n",
        "\n",
        "to_extract = tarfile.open('101_ObjectCategories.tar.gz','r:gz')\n",
        "to_extract.extractall()"
      ],
      "execution_count": 2,
      "outputs": [
        {
          "output_type": "stream",
          "text": [
            "--2019-12-05 13:29:08--  http://www.vision.caltech.edu/Image_Datasets/Caltech101/101_ObjectCategories.tar.gz\n",
            "Resolving www.vision.caltech.edu (www.vision.caltech.edu)... 34.208.54.77\n",
            "Connecting to www.vision.caltech.edu (www.vision.caltech.edu)|34.208.54.77|:80... connected.\n",
            "HTTP request sent, awaiting response... 200 OK\n",
            "Length: 131740031 (126M) [application/x-tar]\n",
            "Saving to: ‘101_ObjectCategories.tar.gz’\n",
            "\n",
            "101_ObjectCategorie 100%[===================>] 125.64M  6.52MB/s    in 22s     \n",
            "\n",
            "2019-12-05 13:29:31 (5.60 MB/s) - ‘101_ObjectCategories.tar.gz’ saved [131740031/131740031]\n",
            "\n"
          ],
          "name": "stdout"
        }
      ]
    },
    {
      "cell_type": "markdown",
      "metadata": {
        "id": "KgUvwjb9y_AV",
        "colab_type": "text"
      },
      "source": [
        "####Preparing tf.data dataset from the images present in the tar.gz"
      ]
    },
    {
      "cell_type": "code",
      "metadata": {
        "id": "1ifslmKtnLxV",
        "colab_type": "code",
        "colab": {}
      },
      "source": [
        "# Util functions\n",
        "\n",
        "\n",
        "def shuffle_list(*ls):\n",
        "  l = list(zip(*ls))\n",
        "  shuffle(l)\n",
        "  return zip(*l)\n",
        "\n",
        "def preprocess(path):\n",
        "  img_raw = tf.io.read_file(path)\n",
        "  img_decoded = tf.image.decode_jpeg(img_raw,channels=3)\n",
        "  img_decoded = tf.image.resize(img_decoded,[128,128])\n",
        "  img_decoded /= 255\n",
        "  return img_decoded\n",
        "\n",
        "def preprocess2(path):\n",
        "  img_raw = tf.io.read_file(path)\n",
        "  img_decoded = tf.image.decode_jpeg(img_raw,channels=3)\n",
        "#   img_decoded = tf.image.resize(img_decoded,[128,128])\n",
        "#   img_decoded /= 255\n",
        "  return img_decoded\n",
        "\n",
        "def get_label_from_prediction(top_pred):\n",
        "  return list(class_to_index.keys())[list(class_to_index.values()).index(top_pred)]\n",
        "\n",
        "# Parameters\n",
        "BATCH_SIZE=100\n",
        "categories_used = 101\n",
        "# Takes image folder path and returns train and test datasets\n",
        "def make_dataset(folder_path, train_split=0.8, categories_used = 101, batch_size=100):\n",
        "  paths = Path(folder_path)\n",
        "  class_paths = [x for x in paths.iterdir() if x.is_dir()]\n",
        "  classes = [x.stem for x in class_paths[:categories_used]]\n",
        "  class_to_index = dict((v,k) for k,v in enumerate(classes[:categories_used]))\n",
        "  file_paths = [list(x.glob('*.jpg')) for x in class_paths[:categories_used]]\n",
        "  print(\"Number of file paths:{0}\".format(len(file_paths)))\n",
        "  \n",
        "  # \"Unrolling\" the file_paths \n",
        "  label_paths = list()\n",
        "  for path in file_paths:\n",
        "    for pt in path:\n",
        "      label_paths.append(pt)\n",
        "  print(len(label_paths))\n",
        "  labels = [class_to_index[l.parent.name] for l in label_paths]\n",
        "  \n",
        "  # shuffling \n",
        "  shuff_paths, shuff_labels = shuffle_list(label_paths,labels)\n",
        "  shuff_paths = [str(p) for p in shuff_paths]\n",
        "  shuff_labels = [p for p in shuff_labels]\n",
        "  \n",
        "  # making labels categorical\n",
        "  shuff_labels = to_categorical(shuff_labels,num_classes=categories_used)\n",
        "  \n",
        "  # train test split\n",
        "  X_train, X_test, y_train, y_test = train_test_split(shuff_paths,\n",
        "                                                      shuff_labels,\n",
        "                                                      test_size=1-train_split)\n",
        "  \n",
        "  # make the datasets\n",
        "  path_ds_train = tf.data.Dataset.from_tensor_slices(X_train)\n",
        "  path_ds_test = tf.data.Dataset.from_tensor_slices(X_test)\n",
        "  image_ds_train = path_ds_train.map(preprocess,num_parallel_calls=4)\n",
        "  image_ds_test = path_ds_test.map(preprocess,num_parallel_calls=4)\n",
        "  label_ds_train = tf.data.Dataset.from_tensor_slices(tf.cast(y_train, tf.int64))\n",
        "  label_ds_test = tf.data.Dataset.from_tensor_slices(tf.cast(y_test, tf.int64))\n",
        "  train_ds = tf.data.Dataset.zip((image_ds_train,label_ds_train))\n",
        "  test_ds = tf.data.Dataset.zip((image_ds_test,label_ds_test))\n",
        "  \n",
        "  # Batch\n",
        "  train_ds = train_ds.batch(batch_size)\n",
        "  test_ds = test_ds.batch(batch_size)\n",
        "\n",
        "  # Prefetch\n",
        "  train_ds = train_ds.prefetch(buffer_size = 1000)\n",
        "  test_ds = test_ds.prefetch(buffer_size = 1000)\n",
        "  return (train_ds,test_ds,shuff_paths,class_to_index,X_test,y_test)\n",
        "    \n",
        "# datast = make_dataset('101_ObjectCategories/') \n",
        "\n",
        "\n",
        "# Takes image file path and feeds it to model\n",
        "def input_pipe(image_path, model=None, plot=False):\n",
        "  image = preprocess(image_path)\n",
        "  if(plot==False):\n",
        "    return np.reshape(image,(-1,128,128,3))\n",
        "  else:\n",
        "    return image\n"
      ],
      "execution_count": 0,
      "outputs": []
    },
    {
      "cell_type": "code",
      "metadata": {
        "id": "uG3Q3YXWM0Xv",
        "colab_type": "code",
        "colab": {}
      },
      "source": [
        ""
      ],
      "execution_count": 0,
      "outputs": []
    },
    {
      "cell_type": "code",
      "metadata": {
        "id": "T3tTC8CtNjU-",
        "colab_type": "code",
        "outputId": "a9f50166-8da2-4635-fa88-bc799dce1d00",
        "colab": {
          "base_uri": "https://localhost:8080/",
          "height": 285
        }
      },
      "source": [
        "plt.imshow(input_pipe('101_ObjectCategories/airplanes/image_0002.jpg',plot=True))"
      ],
      "execution_count": 4,
      "outputs": [
        {
          "output_type": "execute_result",
          "data": {
            "text/plain": [
              "<matplotlib.image.AxesImage at 0x7f2d83bc2400>"
            ]
          },
          "metadata": {
            "tags": []
          },
          "execution_count": 4
        },
        {
          "output_type": "display_data",
          "data": {
            "image/png": "[encoded data removed]",
            "text/plain": [
              "<Figure size 432x288 with 1 Axes>"
            ]
          },
          "metadata": {
            "tags": []
          }
        }
      ]
    },
    {
      "cell_type": "code",
      "metadata": {
        "id": "YfRVA_TVc625",
        "colab_type": "code",
        "outputId": "84da9dd2-c2be-4087-ed47-5e1e765f5f8b",
        "colab": {
          "base_uri": "https://localhost:8080/",
          "height": 52
        }
      },
      "source": [
        "# DATASET\n",
        "train_ds,test_ds,shuff_paths,class_to_index,X_test,y_test = make_dataset('101_ObjectCategories/')"
      ],
      "execution_count": 5,
      "outputs": [
        {
          "output_type": "stream",
          "text": [
            "Number of file paths:101\n",
            "9091\n"
          ],
          "name": "stdout"
        }
      ]
    },
    {
      "cell_type": "code",
      "metadata": {
        "id": "m4BOMFaKHSRl",
        "colab_type": "code",
        "outputId": "2a6c873e-88b5-4914-afca-866e7d4e0b83",
        "colab": {
          "base_uri": "https://localhost:8080/",
          "height": 200
        }
      },
      "source": [
        "n=1\n",
        "for record,_ in train_ds.take(4):\n",
        "  label = record[0]\n",
        "  image = record[1]\n",
        "  plt.subplot(2,2,++n)\n",
        "  plt.imshow(image.numpy()[:, :, :].astype(np.float32))\n",
        "  plt.grid(False)\n",
        "  plt.xticks([])\n",
        "  plt.yticks([])\n",
        "  plt.xlabel(shuff_paths[n])"
      ],
      "execution_count": 6,
      "outputs": [
        {
          "output_type": "stream",
          "text": [
            "/usr/local/lib/python3.6/dist-packages/ipykernel_launcher.py:5: MatplotlibDeprecationWarning: Adding an axes using the same arguments as a previous axes currently reuses the earlier instance.  In a future version, a new instance will always be created and returned.  Meanwhile, this warning can be suppressed, and the future behavior ensured, by passing a unique label to each axes instance.\n",
            "  \"\"\"\n"
          ],
          "name": "stderr"
        },
        {
          "output_type": "display_data",
          "data": {
            "image/png": "[encoded data removed]",
            "text/plain": [
              "<Figure size 432x288 with 1 Axes>"
            ]
          },
          "metadata": {
            "tags": []
          }
        }
      ]
    },
    {
      "cell_type": "code",
      "metadata": {
        "id": "2CWaPE7IrGS9",
        "colab_type": "code",
        "colab": {}
      },
      "source": [
        ""
      ],
      "execution_count": 0,
      "outputs": []
    },
    {
      "cell_type": "markdown",
      "metadata": {
        "id": "pXgi-PAuGbrc",
        "colab_type": "text"
      },
      "source": [
        "###_Transfer Learning MobileNetv2_"
      ]
    },
    {
      "cell_type": "code",
      "metadata": {
        "id": "TDnklsViHErf",
        "colab_type": "code",
        "outputId": "ec05e480-71bf-460a-8a99-82ca887ad43d",
        "colab": {
          "base_uri": "https://localhost:8080/",
          "height": 72
        }
      },
      "source": [
        "IMGSIZE = (128,128,3)\n",
        "mob_net_model = tf.keras.applications.MobileNetV2(input_shape=IMGSIZE,\n",
        "                                               include_top=False,\n",
        "                                               weights='imagenet')"
      ],
      "execution_count": 7,
      "outputs": [
        {
          "output_type": "stream",
          "text": [
            "Downloading data from https://github.com/JonathanCMitchell/mobilenet_v2_keras/releases/download/v1.1/mobilenet_v2_weights_tf_dim_ordering_tf_kernels_1.0_128_no_top.h5\n",
            "9412608/9406464 [==============================] - 1s 0us/step\n"
          ],
          "name": "stdout"
        }
      ]
    },
    {
      "cell_type": "code",
      "metadata": {
        "id": "o-y2RGAEGjCe",
        "colab_type": "code",
        "outputId": "20c24f89-7b81-44ad-ddc9-2074a423d8b3",
        "colab": {
          "base_uri": "https://localhost:8080/",
          "height": 34
        }
      },
      "source": [
        "mob_net_model.input.shape"
      ],
      "execution_count": 8,
      "outputs": [
        {
          "output_type": "execute_result",
          "data": {
            "text/plain": [
              "TensorShape([None, 128, 128, 3])"
            ]
          },
          "metadata": {
            "tags": []
          },
          "execution_count": 8
        }
      ]
    },
    {
      "cell_type": "code",
      "metadata": {
        "id": "LLt3EDPoH1fO",
        "colab_type": "code",
        "colab": {}
      },
      "source": [
        "mob_net_model.trainable = False\n",
        "global_average_layer = tf.keras.layers.GlobalAveragePooling2D()\n",
        "dense_layer = tf.keras.layers.Dense(1000, activation='sigmoid')\n",
        "soft_layer = tf.keras.layers.Dense(101, activation='softmax')"
      ],
      "execution_count": 0,
      "outputs": []
    },
    {
      "cell_type": "code",
      "metadata": {
        "id": "NZNMpDTyMDln",
        "colab_type": "code",
        "outputId": "e4dc0248-76fe-4c5a-90b0-3f3fcbdf0408",
        "colab": {
          "base_uri": "https://localhost:8080/",
          "height": 301
        }
      },
      "source": [
        "TL_model = tf.keras.Sequential([\n",
        "              mob_net_model,\n",
        "              global_average_layer,\n",
        "              dense_layer,\n",
        "              soft_layer\n",
        "        ])\n",
        "\n",
        "# Configure a model for categorical classification.\n",
        "TL_model.compile(optimizer=tf.keras.optimizers.Adam(0.1),\n",
        "              loss=tf.keras.losses.CategoricalCrossentropy(),\n",
        "              metrics=[tf.keras.metrics.CategoricalAccuracy()])\n",
        "\n",
        "TL_model.summary()"
      ],
      "execution_count": 10,
      "outputs": [
        {
          "output_type": "stream",
          "text": [
            "Model: \"sequential\"\n",
            "_________________________________________________________________\n",
            "Layer (type)                 Output Shape              Param #   \n",
            "=================================================================\n",
            "mobilenetv2_1.00_128 (Model) (None, 4, 4, 1280)        2257984   \n",
            "_________________________________________________________________\n",
            "global_average_pooling2d (Gl (None, 1280)              0         \n",
            "_________________________________________________________________\n",
            "dense (Dense)                (None, 1000)              1281000   \n",
            "_________________________________________________________________\n",
            "dense_1 (Dense)              (None, 101)               101101    \n",
            "=================================================================\n",
            "Total params: 3,640,085\n",
            "Trainable params: 1,382,101\n",
            "Non-trainable params: 2,257,984\n",
            "_________________________________________________________________\n"
          ],
          "name": "stdout"
        }
      ]
    },
    {
      "cell_type": "code",
      "metadata": {
        "colab_type": "code",
        "id": "1Fn3Tz4tTSYY",
        "colab": {}
      },
      "source": [
        "# define the checkpoints\n",
        "filepath=\"weights-improvement-{epoch:02d}-{loss:.4f}.hdf5\"\n",
        "checkpoint = ModelCheckpoint(filepath, monitor='loss', verbose=1, save_best_only=False, mode='min')\n",
        "callbacks_list = [checkpoint]"
      ],
      "execution_count": 0,
      "outputs": []
    },
    {
      "cell_type": "code",
      "metadata": {
        "colab_type": "code",
        "id": "P8j5cesBTSYc",
        "colab": {}
      },
      "source": [
        "TL_model.fit(train_ds,\n",
        "          validation_data = test_ds,\n",
        "          epochs=200,\n",
        "          #steps_per_epoch=100,\n",
        "          callbacks = callbacks_list)"
      ],
      "execution_count": 0,
      "outputs": []
    },
    {
      "cell_type": "markdown",
      "metadata": {
        "id": "dwVhWsLuLEE4",
        "colab_type": "text"
      },
      "source": [
        "###_My Model_\n",
        "\n",
        "        v0.1:\n",
        "          CONV 50\n",
        "          MAXPOOL\n",
        "          CONV 20\n",
        "          MAXPOOL\n",
        "          CONV 10\n",
        "          MAXPOOL\n",
        "          FC 100 \n",
        "          FC 50\n",
        "          FC num_classes\n",
        "          "
      ]
    },
    {
      "cell_type": "code",
      "metadata": {
        "id": "xOof6yJNL2Ht",
        "colab_type": "code",
        "colab": {}
      },
      "source": [
        "my_model = keras.Sequential([\n",
        "    keras.layers.Conv2D(50,kernel_size=3,strides=1,activation='relu'),\n",
        "    keras.layers.MaxPool2D(pool_size=2,strides=2,padding=\"same\"),\n",
        "    keras.layers.BatchNormalization(),\n",
        "    keras.layers.Conv2D(20,kernel_size=3,activation='relu'),\n",
        "    keras.layers.MaxPool2D(pool_size=2,strides=2,padding=\"same\"),\n",
        "    keras.layers.BatchNormalization(),\n",
        "    keras.layers.Conv2D(10,kernel_size=3,activation='relu'),\n",
        "    keras.layers.MaxPool2D(pool_size=2,strides=2,padding=\"same\"),\n",
        "    keras.layers.BatchNormalization(),\n",
        "    keras.layers.Flatten(),\n",
        "    keras.layers.Dense(100,activation='tanh'),\n",
        "    keras.layers.Dense(25,activation='tanh'),\n",
        "    keras.layers.Dense(10,activation='tanh'),    \n",
        "    keras.layers.Dense(categories_used,activation='sigmoid')\n",
        "])\n",
        "\n",
        "# Configure a model for categorical classification.\n",
        "my_model.compile(optimizer=tf.keras.optimizers.RMSprop(),\n",
        "              loss=tf.keras.losses.CategoricalCrossentropy(),\n",
        "              metrics=[tf.keras.metrics.CategoricalAccuracy()])"
      ],
      "execution_count": 0,
      "outputs": []
    },
    {
      "cell_type": "code",
      "metadata": {
        "id": "7Az9Cm4PPFgq",
        "colab_type": "code",
        "colab": {}
      },
      "source": [
        "my_model.summary()"
      ],
      "execution_count": 0,
      "outputs": []
    },
    {
      "cell_type": "code",
      "metadata": {
        "id": "XhikBEO-R_sh",
        "colab_type": "code",
        "colab": {}
      },
      "source": [
        "# define the checkpointA\n",
        "filepath=\"weights-improvement-{epoch:02d}-{loss:.4f}.hdf5\"\n",
        "checkpoint = ModelCheckpoint(filepath, monitor='loss', verbose=1, save_best_only=True, mode='min')\n",
        "callbacks_list = [checkpoint]"
      ],
      "execution_count": 0,
      "outputs": []
    },
    {
      "cell_type": "code",
      "metadata": {
        "id": "xuMAUqU0ZYod",
        "colab_type": "code",
        "colab": {
          "base_uri": "https://localhost:8080/",
          "height": 587
        },
        "outputId": "8e39d8ee-209d-459a-99e0-1c14f8614147"
      },
      "source": [
        "my_model.fit(train_ds,\n",
        "          validation_data = test_ds,\n",
        "          epochs=50,\n",
        "          #steps_per_epoch=10000,\n",
        "\n",
        "          callbacks = callbacks_list)"
      ],
      "execution_count": 0,
      "outputs": [
        {
          "output_type": "stream",
          "text": [
            "WARNING:tensorflow:Expected a shuffled dataset but input dataset `x` is not shuffled. Please invoke `shuffle()` on input dataset.\n",
            "Epoch 1/50\n",
            "72/73 [============================>.] - ETA: 0s - loss: 4.4656 - categorical_accuracy: 0.1432\n",
            "Epoch 00001: loss improved from inf to 4.46495, saving model to weights-improvement-01-4.4650.hdf5\n",
            "73/73 [==============================] - 18s 240ms/step - loss: 4.4647 - categorical_accuracy: 0.1451 - val_loss: 4.5296 - val_categorical_accuracy: 0.0995\n",
            "Epoch 2/50\n",
            "72/73 [============================>.] - ETA: 0s - loss: 4.3384 - categorical_accuracy: 0.3193\n",
            "Epoch 00002: loss improved from 4.46495 to 4.33779, saving model to weights-improvement-02-4.3378.hdf5\n",
            "73/73 [==============================] - 10s 142ms/step - loss: 4.3376 - categorical_accuracy: 0.3193 - val_loss: 4.4432 - val_categorical_accuracy: 0.0962\n",
            "Epoch 3/50\n",
            "72/73 [============================>.] - ETA: 0s - loss: 4.2335 - categorical_accuracy: 0.3304\n",
            "Epoch 00003: loss improved from 4.33779 to 4.23285, saving model to weights-improvement-03-4.2329.hdf5\n",
            "73/73 [==============================] - 10s 141ms/step - loss: 4.2326 - categorical_accuracy: 0.3304 - val_loss: 4.3854 - val_categorical_accuracy: 0.0995\n",
            "Epoch 4/50\n",
            "72/73 [============================>.] - ETA: 0s - loss: 4.1331 - categorical_accuracy: 0.3288\n",
            "Epoch 00004: loss improved from 4.23285 to 4.13251, saving model to weights-improvement-04-4.1325.hdf5\n",
            "73/73 [==============================] - 10s 140ms/step - loss: 4.1323 - categorical_accuracy: 0.3287 - val_loss: 4.3703 - val_categorical_accuracy: 0.0962\n",
            "Epoch 5/50\n",
            "72/73 [============================>.] - ETA: 0s - loss: 4.0278 - categorical_accuracy: 0.3104\n",
            "Epoch 00005: loss improved from 4.13251 to 4.02709, saving model to weights-improvement-05-4.0271.hdf5\n",
            "73/73 [==============================] - 10s 142ms/step - loss: 4.0268 - categorical_accuracy: 0.3103 - val_loss: 4.2275 - val_categorical_accuracy: 0.1391\n",
            "Epoch 6/50\n",
            "72/73 [============================>.] - ETA: 0s - loss: 3.9132 - categorical_accuracy: 0.2932\n",
            "Epoch 00006: loss improved from 4.02709 to 3.91236, saving model to weights-improvement-06-3.9124.hdf5\n",
            "73/73 [==============================] - 10s 141ms/step - loss: 3.9120 - categorical_accuracy: 0.2930 - val_loss: 4.0785 - val_categorical_accuracy: 0.2023\n",
            "Epoch 7/50\n",
            "72/73 [============================>.] - ETA: 0s - loss: 3.7930 - categorical_accuracy: 0.2641\n",
            "Epoch 00007: loss improved from 3.91236 to 3.79203, saving model to weights-improvement-07-3.7920.hdf5\n",
            "73/73 [==============================] - 10s 141ms/step - loss: 3.7916 - categorical_accuracy: 0.2641 - val_loss: 4.0288 - val_categorical_accuracy: 0.1820\n",
            "Epoch 8/50\n",
            " 7/73 [=>............................] - ETA: 8s - loss: 3.7176 - categorical_accuracy: 0.2613"
          ],
          "name": "stdout"
        }
      ]
    },
    {
      "cell_type": "code",
      "metadata": {
        "id": "evSozVIThJWU",
        "colab_type": "code",
        "colab": {}
      },
      "source": [
        ""
      ],
      "execution_count": 0,
      "outputs": []
    },
    {
      "cell_type": "code",
      "metadata": {
        "id": "XT23o0oiGYBP",
        "colab_type": "code",
        "colab": {}
      },
      "source": [
        ""
      ],
      "execution_count": 0,
      "outputs": []
    },
    {
      "cell_type": "markdown",
      "metadata": {
        "id": "GZiAZ2ILfKyo",
        "colab_type": "text"
      },
      "source": [
        "###_Evaluating Model Performance_"
      ]
    },
    {
      "cell_type": "code",
      "metadata": {
        "id": "FKq68i-4ksDS",
        "colab_type": "code",
        "colab": {}
      },
      "source": [
        "# load the network weights weights-improvement-37-0.0005.hdf5\n",
        "filename = !ls -Art | tail -n 1\n",
        "print(filename[0])\n",
        "my_model.load_weights(filename[0])\n",
        "my_model.compile(loss='categorical_crossentropy', optimizer='adam',metrics=['categorical_accuracy'])"
      ],
      "execution_count": 0,
      "outputs": []
    },
    {
      "cell_type": "code",
      "metadata": {
        "id": "4SlwJNbfVaQX",
        "colab_type": "code",
        "colab": {}
      },
      "source": [
        "test_eval = my_model.evaluate(test_ds,callbacks=callbacks_list)\n",
        "print(\" Final Loss: \",test_eval[0])\n",
        "print(\" Final Accuracy: {}%\".format(test_eval[1]*100))"
      ],
      "execution_count": 0,
      "outputs": []
    },
    {
      "cell_type": "code",
      "metadata": {
        "id": "PF6UhGz2Rp5C",
        "colab_type": "code",
        "colab": {}
      },
      "source": [
        "#An example image\n",
        "# im_path = X_test[random.randint(0,len(X_test))]\n",
        "im_path = '/content/101_ObjectCategories/airplanes/image_0002.jpg'\n",
        "plt.imshow(preprocess2(im_path))\n",
        "\n",
        "img=input_pipe(im_path)\n",
        "prediction = np.argmax(my_model.predict(img))\n",
        "\n",
        "\n",
        "\n",
        "print(\"Predicted Label: \",get_label_from_prediction(prediction))\n",
        "print(\"Actual Label: \",Path(im_path).parent.stem)"
      ],
      "execution_count": 0,
      "outputs": []
    },
    {
      "cell_type": "code",
      "metadata": {
        "id": "kMQN52sxlNEP",
        "colab_type": "code",
        "colab": {}
      },
      "source": [
        ""
      ],
      "execution_count": 0,
      "outputs": []
    },
    {
      "cell_type": "code",
      "metadata": {
        "id": "guPZT0fkW-j7",
        "colab_type": "code",
        "colab": {}
      },
      "source": [
        ""
      ],
      "execution_count": 0,
      "outputs": []
    }
  ]
}